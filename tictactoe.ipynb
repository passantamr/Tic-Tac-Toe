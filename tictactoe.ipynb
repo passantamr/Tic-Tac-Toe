{
  "nbformat": 4,
  "nbformat_minor": 0,
  "metadata": {
    "colab": {
      "provenance": [],
      "authorship_tag": "ABX9TyOOiCAvzqxsU4rqOAFKeJCN",
      "include_colab_link": true
    },
    "kernelspec": {
      "name": "python3",
      "display_name": "Python 3"
    },
    "language_info": {
      "name": "python"
    }
  },
  "cells": [
    {
      "cell_type": "markdown",
      "metadata": {
        "id": "view-in-github",
        "colab_type": "text"
      },
      "source": [
        "<a href=\"https://colab.research.google.com/github/passantamr/Tic-Tac-Toe/blob/main/tictactoe.ipynb\" target=\"_parent\"><img src=\"https://colab.research.google.com/assets/colab-badge.svg\" alt=\"Open In Colab\"/></a>"
      ]
    },
    {
      "cell_type": "code",
      "execution_count": 2,
      "metadata": {
        "colab": {
          "base_uri": "https://localhost:8080/"
        },
        "id": "VCX2E8k7B3D5",
        "outputId": "7d1bccce-e99e-4156-9abc-e13a4a15cf84"
      },
      "outputs": [
        {
          "output_type": "stream",
          "name": "stdout",
          "text": [
            "  |   |  \n",
            "  |   |  \n",
            "  |   |  \n",
            " 1 2\n",
            "  |   |  \n",
            "  |   | x\n",
            "  |   |  \n",
            "1 2\n",
            "Invaild Location..Please enter another one\n",
            "0 0\n",
            "o |   |  \n",
            "  |   | x\n",
            "  |   |  \n",
            "1 1\n",
            "o |   |  \n",
            "  | x | x\n",
            "  |   |  \n",
            "1 0\n",
            "o |   |  \n",
            "o | x | x\n",
            "  |   |  \n",
            "2 0\n",
            "o |   |  \n",
            "o | x | x\n",
            "x |   |  \n",
            "0 1\n",
            "o | o |  \n",
            "o | x | x\n",
            "x |   |  \n",
            "0 2\n",
            "o | o | x\n",
            "o | x | x\n",
            "x |   |  \n",
            "concratulation, x is the winner\n"
          ]
        }
      ],
      "source": [
        "xo = [ [' ',' ',' '],\n",
        "       [' ',' ',' '],\n",
        "       [' ',' ',' ']\n",
        "]\n",
        "\n",
        "def print_borad(lst):\n",
        "  for i in range(3):\n",
        "    for j in range(3):\n",
        "      print(lst[i][j],end='')\n",
        "      if j != 2:\n",
        "        print(\"\" ,end= ' | ')\n",
        "    print(\"\")\n",
        "\n",
        "def move(lst,symbol):\n",
        "  #list of cooridenates\n",
        "  location = list(input().split())\n",
        "  while (int(location[0])>2) or (int(location[1])>2) or (lst[int(location[0])][int(location[1])] != ' ') :\n",
        "    print(\"Invaild Location..Please enter another one\")\n",
        "    location = list(input().split())\n",
        "  #update\n",
        "  lst[int(location[0])][int(location[1])] = symbol\n",
        "\n",
        "def check_win(lst,symbol):\n",
        "  #check rows\n",
        "  for i in range(3):\n",
        "    counter = 0\n",
        "    for j in range(3):\n",
        "      if lst[i][j]==symbol:\n",
        "        counter += 1\n",
        "    if counter==3:\n",
        "      return True\n",
        "  #check colunms\n",
        "  for j in range(3):\n",
        "    counter = 0\n",
        "    for i in range(3):\n",
        "      if lst[i][j]==symbol:\n",
        "        counter += 1\n",
        "    if counter==3:\n",
        "      return True\n",
        "  #check diagonals\n",
        "  if lst[0][0] == lst[1][1] == lst[2][2] == symbol:\n",
        "    return True\n",
        "  if lst[0][2] == lst[1][1] == lst[2][0] == symbol:\n",
        "    return True\n",
        "  return False\n",
        "\n",
        "def check_tie(lst):\n",
        "  for i in range(3):\n",
        "    for j in range(3):\n",
        "      if lst[i][j]==' ':\n",
        "        return False\n",
        "  return True\n",
        "\n",
        "i = 0\n",
        "print_borad(xo)\n",
        "while i < 10:\n",
        "  if(i%2==0):\n",
        "    sym = 'x'\n",
        "  else:\n",
        "    sym = 'o'\n",
        "  move(xo,sym)\n",
        "  print_borad(xo)\n",
        "  if check_win(xo,sym):\n",
        "    print(\"concratulation, {} is the winner\".format(sym))\n",
        "    break\n",
        "  if check_tie(xo):\n",
        "    print(\"No such winner\")\n",
        "    break\n",
        "  i += 1\n",
        "\n"
      ]
    }
  ]
}